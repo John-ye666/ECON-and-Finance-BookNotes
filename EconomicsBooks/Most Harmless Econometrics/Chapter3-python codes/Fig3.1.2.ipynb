{
 "cells": [
  {
   "cell_type": "markdown",
   "id": "smart-genome",
   "metadata": {},
   "source": [
    "# For fig 3.1.2 in the book"
   ]
  },
  {
   "cell_type": "markdown",
   "id": "recovered-advantage",
   "metadata": {},
   "source": [
    "## Step1: Loading the packages we need"
   ]
  },
  {
   "cell_type": "code",
   "execution_count": 1,
   "id": "closing-playback",
   "metadata": {},
   "outputs": [],
   "source": [
    "import urllib\n",
    "import zipfile\n",
    "import urllib.request\n",
    "import pandas as pd\n",
    "import statsmodels.api as sm\n",
    "import matplotlib.pyplot as plt"
   ]
  },
  {
   "cell_type": "markdown",
   "id": "fantastic-oriental",
   "metadata": {},
   "source": [
    "## Step2: Downloading zip data from the Internet with the package urllib.request"
   ]
  },
  {
   "cell_type": "code",
   "execution_count": 2,
   "id": "bigger-artwork",
   "metadata": {},
   "outputs": [
    {
     "data": {
      "text/plain": [
       "('asciiqob.zip', <http.client.HTTPMessage at 0x7fc80c331630>)"
      ]
     },
     "execution_count": 2,
     "metadata": {},
     "output_type": "execute_result"
    }
   ],
   "source": [
    "urllib.request.urlretrieve('http://economics.mit.edu/files/397','asciiqob.zip')"
   ]
  },
  {
   "cell_type": "markdown",
   "id": "large-receipt",
   "metadata": {},
   "source": [
    "## Step3: Unzip the zip data"
   ]
  },
  {
   "cell_type": "code",
   "execution_count": 4,
   "id": "younger-husband",
   "metadata": {},
   "outputs": [],
   "source": [
    "with zipfile.ZipFile('asciiqob.zip','r') as z:\n",
    "    z.extractall()"
   ]
  },
  {
   "cell_type": "markdown",
   "id": "proved-pizza",
   "metadata": {},
   "source": [
    "## Step4: Read data using pandas"
   ]
  },
  {
   "cell_type": "code",
   "execution_count": 5,
   "id": "knowing-bachelor",
   "metadata": {},
   "outputs": [
    {
     "data": {
      "text/html": [
       "<div>\n",
       "<style scoped>\n",
       "    .dataframe tbody tr th:only-of-type {\n",
       "        vertical-align: middle;\n",
       "    }\n",
       "\n",
       "    .dataframe tbody tr th {\n",
       "        vertical-align: top;\n",
       "    }\n",
       "\n",
       "    .dataframe thead th {\n",
       "        text-align: right;\n",
       "    }\n",
       "</style>\n",
       "<table border=\"1\" class=\"dataframe\">\n",
       "  <thead>\n",
       "    <tr style=\"text-align: right;\">\n",
       "      <th></th>\n",
       "      <th>0</th>\n",
       "      <th>1</th>\n",
       "      <th>2</th>\n",
       "      <th>3</th>\n",
       "      <th>4</th>\n",
       "    </tr>\n",
       "  </thead>\n",
       "  <tbody>\n",
       "    <tr>\n",
       "      <th>0</th>\n",
       "      <td>5.790019</td>\n",
       "      <td>12</td>\n",
       "      <td>30</td>\n",
       "      <td>1</td>\n",
       "      <td>45</td>\n",
       "    </tr>\n",
       "    <tr>\n",
       "      <th>1</th>\n",
       "      <td>5.952494</td>\n",
       "      <td>11</td>\n",
       "      <td>30</td>\n",
       "      <td>1</td>\n",
       "      <td>45</td>\n",
       "    </tr>\n",
       "    <tr>\n",
       "      <th>2</th>\n",
       "      <td>5.315949</td>\n",
       "      <td>12</td>\n",
       "      <td>30</td>\n",
       "      <td>1</td>\n",
       "      <td>45</td>\n",
       "    </tr>\n",
       "    <tr>\n",
       "      <th>3</th>\n",
       "      <td>5.595926</td>\n",
       "      <td>12</td>\n",
       "      <td>30</td>\n",
       "      <td>1</td>\n",
       "      <td>45</td>\n",
       "    </tr>\n",
       "    <tr>\n",
       "      <th>4</th>\n",
       "      <td>6.068915</td>\n",
       "      <td>12</td>\n",
       "      <td>30</td>\n",
       "      <td>1</td>\n",
       "      <td>37</td>\n",
       "    </tr>\n",
       "  </tbody>\n",
       "</table>\n",
       "</div>"
      ],
      "text/plain": [
       "          0   1   2  3   4\n",
       "0  5.790019  12  30  1  45\n",
       "1  5.952494  11  30  1  45\n",
       "2  5.315949  12  30  1  45\n",
       "3  5.595926  12  30  1  45\n",
       "4  6.068915  12  30  1  37"
      ]
     },
     "execution_count": 5,
     "metadata": {},
     "output_type": "execute_result"
    }
   ],
   "source": [
    "#Even though it's txt file, we still use pd.read_csv to read it\n",
    "pums=pd.read_csv('asciiqob.txt',header=None,delim_whitespace=True)\n",
    "pums.head()"
   ]
  },
  {
   "cell_type": "markdown",
   "id": "backed-adult",
   "metadata": {},
   "source": [
    "## Step5: Rename the columns"
   ]
  },
  {
   "cell_type": "code",
   "execution_count": 8,
   "id": "improving-stack",
   "metadata": {},
   "outputs": [],
   "source": [
    "pums.columns=[\"lwklywge\", \"educ\", \"yob\", \"qob\", \"pob\"]\n",
    "#in a list order."
   ]
  },
  {
   "cell_type": "code",
   "execution_count": 9,
   "id": "measured-might",
   "metadata": {},
   "outputs": [
    {
     "data": {
      "text/html": [
       "<div>\n",
       "<style scoped>\n",
       "    .dataframe tbody tr th:only-of-type {\n",
       "        vertical-align: middle;\n",
       "    }\n",
       "\n",
       "    .dataframe tbody tr th {\n",
       "        vertical-align: top;\n",
       "    }\n",
       "\n",
       "    .dataframe thead th {\n",
       "        text-align: right;\n",
       "    }\n",
       "</style>\n",
       "<table border=\"1\" class=\"dataframe\">\n",
       "  <thead>\n",
       "    <tr style=\"text-align: right;\">\n",
       "      <th></th>\n",
       "      <th>lwklywge</th>\n",
       "      <th>educ</th>\n",
       "      <th>yob</th>\n",
       "      <th>qob</th>\n",
       "      <th>pob</th>\n",
       "    </tr>\n",
       "  </thead>\n",
       "  <tbody>\n",
       "    <tr>\n",
       "      <th>0</th>\n",
       "      <td>5.790019</td>\n",
       "      <td>12</td>\n",
       "      <td>30</td>\n",
       "      <td>1</td>\n",
       "      <td>45</td>\n",
       "    </tr>\n",
       "    <tr>\n",
       "      <th>1</th>\n",
       "      <td>5.952494</td>\n",
       "      <td>11</td>\n",
       "      <td>30</td>\n",
       "      <td>1</td>\n",
       "      <td>45</td>\n",
       "    </tr>\n",
       "    <tr>\n",
       "      <th>2</th>\n",
       "      <td>5.315949</td>\n",
       "      <td>12</td>\n",
       "      <td>30</td>\n",
       "      <td>1</td>\n",
       "      <td>45</td>\n",
       "    </tr>\n",
       "    <tr>\n",
       "      <th>3</th>\n",
       "      <td>5.595926</td>\n",
       "      <td>12</td>\n",
       "      <td>30</td>\n",
       "      <td>1</td>\n",
       "      <td>45</td>\n",
       "    </tr>\n",
       "    <tr>\n",
       "      <th>4</th>\n",
       "      <td>6.068915</td>\n",
       "      <td>12</td>\n",
       "      <td>30</td>\n",
       "      <td>1</td>\n",
       "      <td>37</td>\n",
       "    </tr>\n",
       "  </tbody>\n",
       "</table>\n",
       "</div>"
      ],
      "text/plain": [
       "   lwklywge  educ  yob  qob  pob\n",
       "0  5.790019    12   30    1   45\n",
       "1  5.952494    11   30    1   45\n",
       "2  5.315949    12   30    1   45\n",
       "3  5.595926    12   30    1   45\n",
       "4  6.068915    12   30    1   37"
      ]
     },
     "execution_count": 9,
     "metadata": {},
     "output_type": "execute_result"
    }
   ],
   "source": [
    "pums.head()"
   ]
  },
  {
   "cell_type": "markdown",
   "id": "purple-active",
   "metadata": {},
   "source": [
    "## Step6: Set up the models: set up which is explainable variables, which are independent variables"
   ]
  },
  {
   "cell_type": "code",
   "execution_count": 13,
   "id": "imposed-illinois",
   "metadata": {},
   "outputs": [],
   "source": [
    "y=pums.lwklywge\n",
    "X=pums.educ\n",
    "#apply statsmodels.api to add a constant in our regression model. Forming RHS or our regression model\n",
    "X=sm.add_constant(X)"
   ]
  },
  {
   "cell_type": "markdown",
   "id": "violent-jewel",
   "metadata": {},
   "source": [
    "y=pums.lwklywge\n",
    "X=pums.educ\n",
    "#apply statsmodels.api to add a constant in our regression model. Forming RHS or our regression model\n",
    "X=sm.add_constant(X)"
   ]
  },
  {
   "cell_type": "markdown",
   "id": "unauthorized-triangle",
   "metadata": {},
   "source": [
    "## Step7: OLS Regression"
   ]
  },
  {
   "cell_type": "code",
   "execution_count": 15,
   "id": "surprising-shannon",
   "metadata": {},
   "outputs": [],
   "source": [
    "\n",
    "model=sm.OLS(y,X)\n",
    "results=model.fit()\n",
    "educ_coeff=results.params[1]\n",
    "intercept=results.params[0]"
   ]
  },
  {
   "cell_type": "markdown",
   "id": "czech-decision",
   "metadata": {},
   "source": [
    "## Step8: Calculation means and make predictions"
   ]
  },
  {
   "cell_type": "code",
   "execution_count": 16,
   "id": "addressed-zambia",
   "metadata": {},
   "outputs": [],
   "source": [
    "groupbyeduc=pums.groupby('educ')\n",
    "educ_means=groupbyeduc['lwklywge'].mean().reset_index()\n",
    "yhat = pd.Series(\n",
    "    intercept + educ_coeff * educ_means.index.values, index=educ_means.index.values\n",
    ")"
   ]
  },
  {
   "cell_type": "markdown",
   "id": "written-greenhouse",
   "metadata": {},
   "source": [
    "## Step9: Plot"
   ]
  },
  {
   "cell_type": "code",
   "execution_count": 19,
   "id": "oriented-wright",
   "metadata": {},
   "outputs": [
    {
     "data": {
      "text/plain": [
       "<Figure size 432x288 with 0 Axes>"
      ]
     },
     "metadata": {},
     "output_type": "display_data"
    },
    {
     "data": {
      "image/png": "[encoded data removed]",
      "text/plain": [
       "<Figure size 432x288 with 1 Axes>"
      ]
     },
     "metadata": {
      "needs_background": "light"
     },
     "output_type": "display_data"
    }
   ],
   "source": [
    "plt.figure()\n",
    "educ_means.plot(kind=\"line\", x=\"educ\", y=\"lwklywge\", style=\"-o\")\n",
    "yhat.plot()\n",
    "plt.xlabel(\"Years of completed education\").set_color('yellow')\n",
    "plt.ylabel(\"Log weekly earnings, \\\\$2003\").set_color('y')\n",
    "plt.legend().set_visible(False)\n",
    "plt.savefig(\"Figure 3-1-2-Python.pdf\")"
   ]
  },
  {
   "cell_type": "code",
   "execution_count": null,
   "id": "unauthorized-philadelphia",
   "metadata": {},
   "outputs": [],
   "source": []
  }
 ],
 "metadata": {
  "kernelspec": {
   "display_name": "Python 3",
   "language": "python",
   "name": "python3"
  },
  "language_info": {
   "codemirror_mode": {
    "name": "ipython",
    "version": 3
   },
   "file_extension": ".py",
   "mimetype": "text/x-python",
   "name": "python",
   "nbconvert_exporter": "python",
   "pygments_lexer": "ipython3",
   "version": "3.7.3"
  }
 },
 "nbformat": 4,
 "nbformat_minor": 5
}
