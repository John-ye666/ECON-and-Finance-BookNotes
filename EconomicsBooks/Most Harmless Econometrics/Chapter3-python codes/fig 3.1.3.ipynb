{
 "cells": [
  {
   "cell_type": "markdown",
   "id": "printable-edmonton",
   "metadata": {},
   "source": [
    "# Produce fig3.1.3 in the textbook"
   ]
  },
  {
   "cell_type": "code",
   "execution_count": 1,
   "id": "worthy-landing",
   "metadata": {},
   "outputs": [],
   "source": [
    "import urllib\n",
    "import zipfile\n",
    "import urllib.request\n",
    "import pandas as pd\n",
    "import statsmodels.api as sm"
   ]
  },
  {
   "cell_type": "code",
   "execution_count": 2,
   "id": "needed-miami",
   "metadata": {},
   "outputs": [
    {
     "data": {
      "text/html": [
       "<div>\n",
       "<style scoped>\n",
       "    .dataframe tbody tr th:only-of-type {\n",
       "        vertical-align: middle;\n",
       "    }\n",
       "\n",
       "    .dataframe tbody tr th {\n",
       "        vertical-align: top;\n",
       "    }\n",
       "\n",
       "    .dataframe thead th {\n",
       "        text-align: right;\n",
       "    }\n",
       "</style>\n",
       "<table border=\"1\" class=\"dataframe\">\n",
       "  <thead>\n",
       "    <tr style=\"text-align: right;\">\n",
       "      <th></th>\n",
       "      <th>0</th>\n",
       "      <th>1</th>\n",
       "      <th>2</th>\n",
       "      <th>3</th>\n",
       "      <th>4</th>\n",
       "    </tr>\n",
       "  </thead>\n",
       "  <tbody>\n",
       "    <tr>\n",
       "      <th>0</th>\n",
       "      <td>5.790019</td>\n",
       "      <td>12</td>\n",
       "      <td>30</td>\n",
       "      <td>1</td>\n",
       "      <td>45</td>\n",
       "    </tr>\n",
       "    <tr>\n",
       "      <th>1</th>\n",
       "      <td>5.952494</td>\n",
       "      <td>11</td>\n",
       "      <td>30</td>\n",
       "      <td>1</td>\n",
       "      <td>45</td>\n",
       "    </tr>\n",
       "    <tr>\n",
       "      <th>2</th>\n",
       "      <td>5.315949</td>\n",
       "      <td>12</td>\n",
       "      <td>30</td>\n",
       "      <td>1</td>\n",
       "      <td>45</td>\n",
       "    </tr>\n",
       "    <tr>\n",
       "      <th>3</th>\n",
       "      <td>5.595926</td>\n",
       "      <td>12</td>\n",
       "      <td>30</td>\n",
       "      <td>1</td>\n",
       "      <td>45</td>\n",
       "    </tr>\n",
       "    <tr>\n",
       "      <th>4</th>\n",
       "      <td>6.068915</td>\n",
       "      <td>12</td>\n",
       "      <td>30</td>\n",
       "      <td>1</td>\n",
       "      <td>37</td>\n",
       "    </tr>\n",
       "  </tbody>\n",
       "</table>\n",
       "</div>"
      ],
      "text/plain": [
       "          0   1   2  3   4\n",
       "0  5.790019  12  30  1  45\n",
       "1  5.952494  11  30  1  45\n",
       "2  5.315949  12  30  1  45\n",
       "3  5.595926  12  30  1  45\n",
       "4  6.068915  12  30  1  37"
      ]
     },
     "execution_count": 2,
     "metadata": {},
     "output_type": "execute_result"
    }
   ],
   "source": [
    "pums=pd.read_csv('asciiqob.txt',header=None,delim_whitespace=True)\n",
    "pums.head()"
   ]
  },
  {
   "cell_type": "code",
   "execution_count": 3,
   "id": "chronic-physics",
   "metadata": {},
   "outputs": [],
   "source": [
    "pums.columns=[\"lwklywge\", \"educ\", \"yob\", \"qob\", \"pob\"]"
   ]
  },
  {
   "cell_type": "code",
   "execution_count": 5,
   "id": "adjusted-black",
   "metadata": {},
   "outputs": [],
   "source": [
    "groupbyeduc=pums.groupby('educ')\n",
    "educ_mean=groupbyeduc['lwklywge'].mean()\n",
    "educ_count=groupbyeduc['lwklywge'].count()"
   ]
  },
  {
   "cell_type": "code",
   "execution_count": 6,
   "id": "above-nudist",
   "metadata": {},
   "outputs": [],
   "source": [
    "y=pums.lwklywge\n",
    "X=pums.educ\n",
    "X=sm.add_constant(X)"
   ]
  },
  {
   "cell_type": "code",
   "execution_count": 9,
   "id": "ordinary-producer",
   "metadata": {},
   "outputs": [],
   "source": [
    "model=sm.OLS(y,X)\n",
    "results=model.fit()\n",
    "educ_coeff=results.params[1]\n",
    "intercept=results.params[0]\n"
   ]
  },
  {
   "cell_type": "code",
   "execution_count": 10,
   "id": "basic-singer",
   "metadata": {},
   "outputs": [
    {
     "data": {
      "text/plain": [
       "<statsmodels.regression.linear_model.RegressionResultsWrapper at 0x7fbb3e5afcf8>"
      ]
     },
     "execution_count": 10,
     "metadata": {},
     "output_type": "execute_result"
    }
   ],
   "source": [
    "results"
   ]
  },
  {
   "cell_type": "code",
   "execution_count": 11,
   "id": "forward-pursuit",
   "metadata": {},
   "outputs": [],
   "source": [
    "## No end, still need to figure out how to make weighted OLS "
   ]
  },
  {
   "cell_type": "code",
   "execution_count": null,
   "id": "conscious-boundary",
   "metadata": {},
   "outputs": [],
   "source": []
  }
 ],
 "metadata": {
  "kernelspec": {
   "display_name": "Python 3",
   "language": "python",
   "name": "python3"
  },
  "language_info": {
   "codemirror_mode": {
    "name": "ipython",
    "version": 3
   },
   "file_extension": ".py",
   "mimetype": "text/x-python",
   "name": "python",
   "nbconvert_exporter": "python",
   "pygments_lexer": "ipython3",
   "version": "3.7.3"
  }
 },
 "nbformat": 4,
 "nbformat_minor": 5
}
